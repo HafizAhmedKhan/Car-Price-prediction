{
 "cells": [
  {
   "cell_type": "code",
   "execution_count": 6,
   "id": "speaking-european",
   "metadata": {},
   "outputs": [],
   "source": [
    "import numpy as np \n",
    "import pandas as pd\n",
    "import math\n",
    "import matplotlib.pyplot as plt\n",
    "import seaborn as sns\n",
    "from sklearn.model_selection import train_test_split\n",
    "from sklearn.linear_model import LinearRegression\n",
    "from sklearn import preprocessing\n",
    "from sklearn import linear_model"
   ]
  },
  {
   "cell_type": "code",
   "execution_count": 15,
   "id": "least-element",
   "metadata": {},
   "outputs": [],
   "source": [
    "data=pd.read_csv('Car details v3.csv')"
   ]
  },
  {
   "cell_type": "code",
   "execution_count": 16,
   "id": "arbitrary-record",
   "metadata": {},
   "outputs": [
    {
     "data": {
      "text/html": [
       "<div>\n",
       "<style scoped>\n",
       "    .dataframe tbody tr th:only-of-type {\n",
       "        vertical-align: middle;\n",
       "    }\n",
       "\n",
       "    .dataframe tbody tr th {\n",
       "        vertical-align: top;\n",
       "    }\n",
       "\n",
       "    .dataframe thead th {\n",
       "        text-align: right;\n",
       "    }\n",
       "</style>\n",
       "<table border=\"1\" class=\"dataframe\">\n",
       "  <thead>\n",
       "    <tr style=\"text-align: right;\">\n",
       "      <th></th>\n",
       "      <th>name</th>\n",
       "      <th>year</th>\n",
       "      <th>fuel</th>\n",
       "      <th>mileage</th>\n",
       "      <th>engine(CC)</th>\n",
       "      <th>max_power</th>\n",
       "      <th>selling_price</th>\n",
       "    </tr>\n",
       "  </thead>\n",
       "  <tbody>\n",
       "    <tr>\n",
       "      <th>0</th>\n",
       "      <td>Maruti Swift Dzire VDI</td>\n",
       "      <td>2014</td>\n",
       "      <td>Diesel</td>\n",
       "      <td>23.40</td>\n",
       "      <td>1248</td>\n",
       "      <td>74.00</td>\n",
       "      <td>450000</td>\n",
       "    </tr>\n",
       "    <tr>\n",
       "      <th>1</th>\n",
       "      <td>Skoda Rapid 1.5 TDI Ambition</td>\n",
       "      <td>2014</td>\n",
       "      <td>Diesel</td>\n",
       "      <td>21.14</td>\n",
       "      <td>1498</td>\n",
       "      <td>103.52</td>\n",
       "      <td>370000</td>\n",
       "    </tr>\n",
       "    <tr>\n",
       "      <th>2</th>\n",
       "      <td>Honda City 2017-2020 EXi</td>\n",
       "      <td>2006</td>\n",
       "      <td>Petrol</td>\n",
       "      <td>17.70</td>\n",
       "      <td>1497</td>\n",
       "      <td>78.00</td>\n",
       "      <td>158000</td>\n",
       "    </tr>\n",
       "    <tr>\n",
       "      <th>3</th>\n",
       "      <td>Hyundai i20 Sportz Diesel</td>\n",
       "      <td>2010</td>\n",
       "      <td>Diesel</td>\n",
       "      <td>23.00</td>\n",
       "      <td>1396</td>\n",
       "      <td>90.00</td>\n",
       "      <td>225000</td>\n",
       "    </tr>\n",
       "    <tr>\n",
       "      <th>4</th>\n",
       "      <td>Maruti Swift VXI BSIII</td>\n",
       "      <td>2007</td>\n",
       "      <td>Petrol</td>\n",
       "      <td>16.10</td>\n",
       "      <td>1298</td>\n",
       "      <td>88.20</td>\n",
       "      <td>130000</td>\n",
       "    </tr>\n",
       "  </tbody>\n",
       "</table>\n",
       "</div>"
      ],
      "text/plain": [
       "                           name  year    fuel  mileage  engine(CC)  max_power  \\\n",
       "0        Maruti Swift Dzire VDI  2014  Diesel    23.40        1248      74.00   \n",
       "1  Skoda Rapid 1.5 TDI Ambition  2014  Diesel    21.14        1498     103.52   \n",
       "2      Honda City 2017-2020 EXi  2006  Petrol    17.70        1497      78.00   \n",
       "3     Hyundai i20 Sportz Diesel  2010  Diesel    23.00        1396      90.00   \n",
       "4        Maruti Swift VXI BSIII  2007  Petrol    16.10        1298      88.20   \n",
       "\n",
       "   selling_price  \n",
       "0         450000  \n",
       "1         370000  \n",
       "2         158000  \n",
       "3         225000  \n",
       "4         130000  "
      ]
     },
     "execution_count": 16,
     "metadata": {},
     "output_type": "execute_result"
    }
   ],
   "source": [
    "data.head()"
   ]
  },
  {
   "cell_type": "code",
   "execution_count": 9,
   "id": "planned-committee",
   "metadata": {},
   "outputs": [
    {
     "data": {
      "text/plain": [
       "(1004, 7)"
      ]
     },
     "execution_count": 9,
     "metadata": {},
     "output_type": "execute_result"
    }
   ],
   "source": [
    "data.shape"
   ]
  },
  {
   "cell_type": "code",
   "execution_count": 10,
   "id": "imposed-afternoon",
   "metadata": {},
   "outputs": [
    {
     "data": {
      "text/plain": [
       "name             0\n",
       "year             0\n",
       "fuel             0\n",
       "mileage(         0\n",
       "engine(CC        0\n",
       "max_power()      0\n",
       "selling_price    0\n",
       "dtype: int64"
      ]
     },
     "execution_count": 10,
     "metadata": {},
     "output_type": "execute_result"
    }
   ],
   "source": [
    "data.isnull().sum()"
   ]
  },
  {
   "cell_type": "code",
   "execution_count": 12,
   "id": "relevant-hughes",
   "metadata": {},
   "outputs": [
    {
     "data": {
      "image/png": "[encoded data removed]",
      "text/plain": [
       "<Figure size 1080x360 with 1 Axes>"
      ]
     },
     "metadata": {
      "needs_background": "light"
     },
     "output_type": "display_data"
    }
   ],
   "source": [
    "plt.figure(figsize=(15,5))\n",
    "plt.grid()\n",
    "sns.countplot(x='year', data= data)\n",
    "plt.title(\"Year\", fontsize=15)\n",
    "plt.show()"
   ]
  },
  {
   "cell_type": "code",
   "execution_count": 14,
   "id": "systematic-geneva",
   "metadata": {},
   "outputs": [
    {
     "data": {
      "image/png": "[encoded data removed]",
      "text/plain": [
       "<Figure size 360x360 with 1 Axes>"
      ]
     },
     "metadata": {
      "needs_background": "light"
     },
     "output_type": "display_data"
    }
   ],
   "source": [
    "plt.figure(figsize=(5,5))\n",
    "plt.grid()\n",
    "sns.countplot(x='fuel', data= data)\n",
    "plt.title(\"Fuel\", fontsize=15)\n",
    "plt.show()"
   ]
  },
  {
   "cell_type": "code",
   "execution_count": 18,
   "id": "negative-polish",
   "metadata": {},
   "outputs": [
    {
     "data": {
      "image/png": "[encoded data removed]",
      "text/plain": [
       "<Figure size 1080x360 with 1 Axes>"
      ]
     },
     "metadata": {
      "needs_background": "light"
     },
     "output_type": "display_data"
    }
   ],
   "source": [
    "plt.figure(figsize=(15,5))\n",
    "plt.grid()\n",
    "sns.histplot(data['mileage'])\n",
    "plt.title(\"mileage\", fontsize=15)\n",
    "plt.show()"
   ]
  },
  {
   "cell_type": "code",
   "execution_count": 19,
   "id": "precious-reception",
   "metadata": {},
   "outputs": [
    {
     "data": {
      "image/png": "[encoded data removed]",
      "text/plain": [
       "<Figure size 1080x360 with 1 Axes>"
      ]
     },
     "metadata": {
      "needs_background": "light"
     },
     "output_type": "display_data"
    }
   ],
   "source": [
    "plt.figure(figsize=(15,5))\n",
    "plt.grid()\n",
    "sns.histplot(data['max_power'])\n",
    "plt.title(\"max_power\", fontsize=15)\n",
    "plt.show()"
   ]
  },
  {
   "cell_type": "code",
   "execution_count": 20,
   "id": "opening-freedom",
   "metadata": {},
   "outputs": [
    {
     "data": {
      "image/png": "[encoded data removed]",
      "text/plain": [
       "<Figure size 1080x360 with 1 Axes>"
      ]
     },
     "metadata": {
      "needs_background": "light"
     },
     "output_type": "display_data"
    }
   ],
   "source": [
    "plt.figure(figsize=(15,5))\n",
    "plt.grid()\n",
    "sns.histplot(data['engine(CC)'])\n",
    "plt.title(\"engine(CC)\", fontsize=15)\n",
    "plt.show()"
   ]
  },
  {
   "cell_type": "code",
   "execution_count": 21,
   "id": "collected-cardiff",
   "metadata": {},
   "outputs": [],
   "source": [
    "X = data.loc[:, data.columns=='mileage']\n",
    "y = data.loc[:, data.columns=='selling_price']\n",
    "X_train, X_test, y_train, y_test = train_test_split(X, y, test_size=0.1, random_state=1234)"
   ]
  },
  {
   "cell_type": "code",
   "execution_count": 22,
   "id": "moved-budget",
   "metadata": {},
   "outputs": [
    {
     "data": {
      "text/plain": [
       "array([[691884.32302137],\n",
       "       [521824.98301346],\n",
       "       [723341.75309238],\n",
       "       [648364.26938931],\n",
       "       [576225.05005354],\n",
       "       [704065.20759774],\n",
       "       [556830.2435436 ],\n",
       "       [679112.13336848],\n",
       "       [634172.94755276],\n",
       "       [718256.52943428],\n",
       "       [637720.7780119 ],\n",
       "       [621164.23586926],\n",
       "       [612058.13769082],\n",
       "       [638903.38816494],\n",
       "       [588760.71767582],\n",
       "       [629442.50694058],\n",
       "       [570311.99928832],\n",
       "       [631807.72724667],\n",
       "       [559668.50791091],\n",
       "       [659007.76076671],\n",
       "       [601532.90732871],\n",
       "       [676746.91306239],\n",
       "       [560023.29095682],\n",
       "       [706312.16688852],\n",
       "       [639021.64918025],\n",
       "       [637720.7780119 ],\n",
       "       [668468.64199107],\n",
       "       [692120.84505198],\n",
       "       [593136.37524209],\n",
       "       [521824.98301346],\n",
       "       [612058.13769082],\n",
       "       [696851.28566416],\n",
       "       [607682.48012455],\n",
       "       [585567.6702626 ],\n",
       "       [615132.92408873],\n",
       "       [578708.53137494],\n",
       "       [624712.0663284 ],\n",
       "       [596329.42265531],\n",
       "       [696851.28566416],\n",
       "       [692948.67215911],\n",
       "       [637720.7780119 ],\n",
       "       [556120.67745177],\n",
       "       [705957.38384261],\n",
       "       [647181.65923626],\n",
       "       [692120.84505198],\n",
       "       [611703.3546449 ],\n",
       "       [659244.28279732],\n",
       "       [637720.7780119 ],\n",
       "       [668941.68605229],\n",
       "       [668468.64199107],\n",
       "       [560023.29095682],\n",
       "       [575042.4399005 ],\n",
       "       [629442.50694058],\n",
       "       [673199.08260326],\n",
       "       [685853.01124084],\n",
       "       [647181.65923626],\n",
       "       [644816.43893017],\n",
       "       [613832.05292038],\n",
       "       [704065.20759774],\n",
       "       [606145.08692559],\n",
       "       [659007.76076671],\n",
       "       [557303.28760482],\n",
       "       [615132.92408873],\n",
       "       [588760.71767582],\n",
       "       [659244.28279732],\n",
       "       [656524.27944532],\n",
       "       [628969.46287936],\n",
       "       [693303.45520503],\n",
       "       [616433.79525708],\n",
       "       [671898.21143491],\n",
       "       [713407.8278068 ],\n",
       "       [617616.40541013],\n",
       "       [668941.68605229],\n",
       "       [649901.66258826],\n",
       "       [615842.49018056],\n",
       "       [597512.03280836],\n",
       "       [637720.7780119 ],\n",
       "       [627195.54764979],\n",
       "       [609101.6123082 ],\n",
       "       [638903.38816494],\n",
       "       [616906.8393183 ],\n",
       "       [656524.27944532],\n",
       "       [632990.33739972],\n",
       "       [628259.89678754],\n",
       "       [697442.59074068],\n",
       "       [628259.89678754],\n",
       "       [622701.62906822],\n",
       "       [607919.00215516],\n",
       "       [632990.33739972],\n",
       "       [650729.4896954 ],\n",
       "       [533769.34555922],\n",
       "       [631807.72724667],\n",
       "       [655459.93030758],\n",
       "       [543230.22678358],\n",
       "       [609219.87332351],\n",
       "       [562033.728217  ],\n",
       "       [651912.09984844],\n",
       "       [656642.54046062],\n",
       "       [586277.23635443],\n",
       "       [584503.32112486],\n",
       "       [729964.36994943]])"
      ]
     },
     "execution_count": 22,
     "metadata": {},
     "output_type": "execute_result"
    }
   ],
   "source": [
    "slr = LinearRegression()\n",
    "slr.fit(X_train, y_train)\n",
    "y_pred = slr.predict(X_test)\n",
    "y_pred"
   ]
  },
  {
   "cell_type": "code",
   "execution_count": 23,
   "id": "thirty-nashville",
   "metadata": {},
   "outputs": [
    {
     "data": {
      "text/html": [
       "<div>\n",
       "<style scoped>\n",
       "    .dataframe tbody tr th:only-of-type {\n",
       "        vertical-align: middle;\n",
       "    }\n",
       "\n",
       "    .dataframe tbody tr th {\n",
       "        vertical-align: top;\n",
       "    }\n",
       "\n",
       "    .dataframe thead th {\n",
       "        text-align: right;\n",
       "    }\n",
       "</style>\n",
       "<table border=\"1\" class=\"dataframe\">\n",
       "  <thead>\n",
       "    <tr style=\"text-align: right;\">\n",
       "      <th></th>\n",
       "      <th>name</th>\n",
       "      <th>year</th>\n",
       "      <th>fuel</th>\n",
       "      <th>mileage</th>\n",
       "      <th>engine(CC)</th>\n",
       "      <th>max_power</th>\n",
       "      <th>selling_price</th>\n",
       "    </tr>\n",
       "  </thead>\n",
       "  <tbody>\n",
       "    <tr>\n",
       "      <th>0</th>\n",
       "      <td>Maruti Swift Dzire VDI</td>\n",
       "      <td>2014</td>\n",
       "      <td>Diesel</td>\n",
       "      <td>23.40</td>\n",
       "      <td>1248</td>\n",
       "      <td>74.00</td>\n",
       "      <td>450000</td>\n",
       "    </tr>\n",
       "    <tr>\n",
       "      <th>1</th>\n",
       "      <td>Skoda Rapid 1.5 TDI Ambition</td>\n",
       "      <td>2014</td>\n",
       "      <td>Diesel</td>\n",
       "      <td>21.14</td>\n",
       "      <td>1498</td>\n",
       "      <td>103.52</td>\n",
       "      <td>370000</td>\n",
       "    </tr>\n",
       "    <tr>\n",
       "      <th>2</th>\n",
       "      <td>Honda City 2017-2020 EXi</td>\n",
       "      <td>2006</td>\n",
       "      <td>Petrol</td>\n",
       "      <td>17.70</td>\n",
       "      <td>1497</td>\n",
       "      <td>78.00</td>\n",
       "      <td>158000</td>\n",
       "    </tr>\n",
       "    <tr>\n",
       "      <th>3</th>\n",
       "      <td>Hyundai i20 Sportz Diesel</td>\n",
       "      <td>2010</td>\n",
       "      <td>Diesel</td>\n",
       "      <td>23.00</td>\n",
       "      <td>1396</td>\n",
       "      <td>90.00</td>\n",
       "      <td>225000</td>\n",
       "    </tr>\n",
       "    <tr>\n",
       "      <th>4</th>\n",
       "      <td>Maruti Swift VXI BSIII</td>\n",
       "      <td>2007</td>\n",
       "      <td>Petrol</td>\n",
       "      <td>16.10</td>\n",
       "      <td>1298</td>\n",
       "      <td>88.20</td>\n",
       "      <td>130000</td>\n",
       "    </tr>\n",
       "  </tbody>\n",
       "</table>\n",
       "</div>"
      ],
      "text/plain": [
       "                           name  year    fuel  mileage  engine(CC)  max_power  \\\n",
       "0        Maruti Swift Dzire VDI  2014  Diesel    23.40        1248      74.00   \n",
       "1  Skoda Rapid 1.5 TDI Ambition  2014  Diesel    21.14        1498     103.52   \n",
       "2      Honda City 2017-2020 EXi  2006  Petrol    17.70        1497      78.00   \n",
       "3     Hyundai i20 Sportz Diesel  2010  Diesel    23.00        1396      90.00   \n",
       "4        Maruti Swift VXI BSIII  2007  Petrol    16.10        1298      88.20   \n",
       "\n",
       "   selling_price  \n",
       "0         450000  \n",
       "1         370000  \n",
       "2         158000  \n",
       "3         225000  \n",
       "4         130000  "
      ]
     },
     "execution_count": 23,
     "metadata": {},
     "output_type": "execute_result"
    }
   ],
   "source": [
    "data.head()"
   ]
  },
  {
   "cell_type": "code",
   "execution_count": 24,
   "id": "sustained-bristol",
   "metadata": {},
   "outputs": [],
   "source": [
    "le = preprocessing.LabelEncoder()\n",
    "data['fuel']=le.fit_transform(data['fuel'])"
   ]
  },
  {
   "cell_type": "code",
   "execution_count": 25,
   "id": "express-institute",
   "metadata": {},
   "outputs": [
    {
     "data": {
      "text/html": [
       "<div>\n",
       "<style scoped>\n",
       "    .dataframe tbody tr th:only-of-type {\n",
       "        vertical-align: middle;\n",
       "    }\n",
       "\n",
       "    .dataframe tbody tr th {\n",
       "        vertical-align: top;\n",
       "    }\n",
       "\n",
       "    .dataframe thead th {\n",
       "        text-align: right;\n",
       "    }\n",
       "</style>\n",
       "<table border=\"1\" class=\"dataframe\">\n",
       "  <thead>\n",
       "    <tr style=\"text-align: right;\">\n",
       "      <th></th>\n",
       "      <th>name</th>\n",
       "      <th>year</th>\n",
       "      <th>fuel</th>\n",
       "      <th>mileage</th>\n",
       "      <th>engine(CC)</th>\n",
       "      <th>max_power</th>\n",
       "      <th>selling_price</th>\n",
       "    </tr>\n",
       "  </thead>\n",
       "  <tbody>\n",
       "    <tr>\n",
       "      <th>0</th>\n",
       "      <td>Maruti Swift Dzire VDI</td>\n",
       "      <td>2014</td>\n",
       "      <td>0</td>\n",
       "      <td>23.40</td>\n",
       "      <td>1248</td>\n",
       "      <td>74.00</td>\n",
       "      <td>450000</td>\n",
       "    </tr>\n",
       "    <tr>\n",
       "      <th>1</th>\n",
       "      <td>Skoda Rapid 1.5 TDI Ambition</td>\n",
       "      <td>2014</td>\n",
       "      <td>0</td>\n",
       "      <td>21.14</td>\n",
       "      <td>1498</td>\n",
       "      <td>103.52</td>\n",
       "      <td>370000</td>\n",
       "    </tr>\n",
       "    <tr>\n",
       "      <th>2</th>\n",
       "      <td>Honda City 2017-2020 EXi</td>\n",
       "      <td>2006</td>\n",
       "      <td>2</td>\n",
       "      <td>17.70</td>\n",
       "      <td>1497</td>\n",
       "      <td>78.00</td>\n",
       "      <td>158000</td>\n",
       "    </tr>\n",
       "    <tr>\n",
       "      <th>3</th>\n",
       "      <td>Hyundai i20 Sportz Diesel</td>\n",
       "      <td>2010</td>\n",
       "      <td>0</td>\n",
       "      <td>23.00</td>\n",
       "      <td>1396</td>\n",
       "      <td>90.00</td>\n",
       "      <td>225000</td>\n",
       "    </tr>\n",
       "    <tr>\n",
       "      <th>4</th>\n",
       "      <td>Maruti Swift VXI BSIII</td>\n",
       "      <td>2007</td>\n",
       "      <td>2</td>\n",
       "      <td>16.10</td>\n",
       "      <td>1298</td>\n",
       "      <td>88.20</td>\n",
       "      <td>130000</td>\n",
       "    </tr>\n",
       "  </tbody>\n",
       "</table>\n",
       "</div>"
      ],
      "text/plain": [
       "                           name  year  fuel  mileage  engine(CC)  max_power  \\\n",
       "0        Maruti Swift Dzire VDI  2014     0    23.40        1248      74.00   \n",
       "1  Skoda Rapid 1.5 TDI Ambition  2014     0    21.14        1498     103.52   \n",
       "2      Honda City 2017-2020 EXi  2006     2    17.70        1497      78.00   \n",
       "3     Hyundai i20 Sportz Diesel  2010     0    23.00        1396      90.00   \n",
       "4        Maruti Swift VXI BSIII  2007     2    16.10        1298      88.20   \n",
       "\n",
       "   selling_price  \n",
       "0         450000  \n",
       "1         370000  \n",
       "2         158000  \n",
       "3         225000  \n",
       "4         130000  "
      ]
     },
     "execution_count": 25,
     "metadata": {},
     "output_type": "execute_result"
    }
   ],
   "source": [
    "data.head()"
   ]
  },
  {
   "cell_type": "code",
   "execution_count": null,
   "id": "timely-partnership",
   "metadata": {},
   "outputs": [],
   "source": [
    "reg=linear_model.LinearRegression()\n",
    "reg.fit(data[['year','fuel','mileage','engine(CC)','max_power']],data.charges)"
   ]
  }
 ],
 "metadata": {
  "kernelspec": {
   "display_name": "Python 3",
   "language": "python",
   "name": "python3"
  },
  "language_info": {
   "codemirror_mode": {
    "name": "ipython",
    "version": 3
   },
   "file_extension": ".py",
   "mimetype": "text/x-python",
   "name": "python",
   "nbconvert_exporter": "python",
   "pygments_lexer": "ipython3",
   "version": "3.9.1"
  }
 },
 "nbformat": 4,
 "nbformat_minor": 5
}
